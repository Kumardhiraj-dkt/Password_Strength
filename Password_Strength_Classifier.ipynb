{
  "nbformat": 4,
  "nbformat_minor": 0,
  "metadata": {
    "colab": {
      "name": "Password_Strength_Classifier.ipynb",
      "provenance": [],
      "collapsed_sections": []
    },
    "kernelspec": {
      "name": "python3",
      "display_name": "Python 3"
    },
    "language_info": {
      "name": "python"
    }
  },
  "cells": [
    {
      "cell_type": "code",
      "execution_count": null,
      "metadata": {
        "id": "pCkl1YnpU_t5"
      },
      "outputs": [],
      "source": [
        "import pandas as pd\n",
        "import numpy as np\n",
        "import seaborn as sns\n",
        "import warnings\n",
        "warnings.filterwarnings('ignore')"
      ]
    },
    {
      "cell_type": "code",
      "source": [
        "df = pd.read_csv(\"data.csv\",error_bad_lines=False)\n",
        "df.head()"
      ],
      "metadata": {
        "id": "olHfaFqWWZ8Z"
      },
      "execution_count": null,
      "outputs": []
    },
    {
      "cell_type": "markdown",
      "source": [
        "***READING*** ***DATASET***"
      ],
      "metadata": {
        "id": "A_4nwSVz-5d8"
      }
    },
    {
      "cell_type": "code",
      "source": [
        "df['strength'].unique()"
      ],
      "metadata": {
        "id": "8dPTP3srl6sK"
      },
      "execution_count": null,
      "outputs": []
    },
    {
      "cell_type": "code",
      "source": [
        "df.isna().sum()"
      ],
      "metadata": {
        "id": "kWtF2F6omgdK"
      },
      "execution_count": null,
      "outputs": []
    },
    {
      "cell_type": "code",
      "source": [
        "df[df['password'].isnull()]"
      ],
      "metadata": {
        "id": "p6qruSlWmoSx"
      },
      "execution_count": null,
      "outputs": []
    },
    {
      "cell_type": "code",
      "source": [
        "df.dropna(inplace=True)"
      ],
      "metadata": {
        "id": "fSIJEgPSm3MY"
      },
      "execution_count": 13,
      "outputs": []
    },
    {
      "cell_type": "code",
      "source": [
        "sns.countplot(df['strength'])"
      ],
      "metadata": {
        "id": "Ld8XRWJ8nG0b"
      },
      "execution_count": null,
      "outputs": []
    },
    {
      "cell_type": "code",
      "source": [
        "password_tuple=np.array(df)"
      ],
      "metadata": {
        "id": "GvRPUDdgnmU9"
      },
      "execution_count": 17,
      "outputs": []
    },
    {
      "cell_type": "markdown",
      "source": [
        "***SHUFFLING RANDOMLY FOR ROBUSTNESS***"
      ],
      "metadata": {
        "id": "49ak99AP_YbV"
      }
    },
    {
      "cell_type": "code",
      "source": [
        "import random\n",
        "random.shuffle(password_tuple)"
      ],
      "metadata": {
        "id": "HQAl_0xJnuTI"
      },
      "execution_count": 18,
      "outputs": []
    },
    {
      "cell_type": "code",
      "source": [
        "x=[lables[0] for lables in password_tuple]\n",
        "y=[lables[1] for lables in password_tuple]"
      ],
      "metadata": {
        "id": "qto_v_7kn8yc"
      },
      "execution_count": 19,
      "outputs": []
    },
    {
      "cell_type": "markdown",
      "source": [
        "***Split input into characters***"
      ],
      "metadata": {
        "id": "9ow1B9FKAcgo"
      }
    },
    {
      "cell_type": "code",
      "source": [
        "def word_divide_char(inputs):\n",
        "  ch=[]\n",
        "  for i in inputs:\n",
        "    ch.append(i)\n",
        "  return ch"
      ],
      "metadata": {
        "id": "sKTwuPH3oXHG"
      },
      "execution_count": 20,
      "outputs": []
    },
    {
      "cell_type": "markdown",
      "source": [
        "***IMPORT AND APPLY TF IDF***"
      ],
      "metadata": {
        "id": "xmWmiTGkBHIU"
      }
    },
    {
      "cell_type": "code",
      "source": [
        "from sklearn.feature_extraction.text import TfidfVectorizer"
      ],
      "metadata": {
        "id": "d6Ms7pl4o0Fz"
      },
      "execution_count": 21,
      "outputs": []
    },
    {
      "cell_type": "code",
      "source": [
        "vectorizer=TfidfVectorizer(tokenizer=word_divide_char)"
      ],
      "metadata": {
        "id": "u_dOAuqEpEFQ"
      },
      "execution_count": 22,
      "outputs": []
    },
    {
      "cell_type": "code",
      "source": [
        "X=vectorizer.fit_transform(x)"
      ],
      "metadata": {
        "id": "ez2ZGH8rpOOt"
      },
      "execution_count": 23,
      "outputs": []
    },
    {
      "cell_type": "code",
      "source": [
        "first_document_vector=X[0]"
      ],
      "metadata": {
        "id": "DH9sXH3LpauD"
      },
      "execution_count": 29,
      "outputs": []
    },
    {
      "cell_type": "code",
      "source": [
        "df1=pd.DataFrame(first_document_vector.T.todense(),index=vectorizer.get_feature_names(),columns=['TF-IDF'])\n",
        "df1.sort_values(by=['TF-IDF'],ascending=False)"
      ],
      "metadata": {
        "id": "YOGQUrCwqV6Z"
      },
      "execution_count": null,
      "outputs": []
    },
    {
      "cell_type": "markdown",
      "source": [
        "***TRAINING AND TESTING OF DATA***"
      ],
      "metadata": {
        "id": "BSjdHcUwBd0V"
      }
    },
    {
      "cell_type": "code",
      "source": [
        "from sklearn.model_selection import train_test_split"
      ],
      "metadata": {
        "id": "ZOplf3XErVMU"
      },
      "execution_count": 33,
      "outputs": []
    },
    {
      "cell_type": "code",
      "source": [
        "X_train, X_test, y_train,y_test=train_test_split(X,y,test_size=0.2)"
      ],
      "metadata": {
        "id": "NN_VgujusIcL"
      },
      "execution_count": 34,
      "outputs": []
    },
    {
      "cell_type": "markdown",
      "source": [
        "***APPLYING LOGISTICS***"
      ],
      "metadata": {
        "id": "Tczn9Dh7BwUc"
      }
    },
    {
      "cell_type": "code",
      "source": [
        "from sklearn.linear_model import LogisticRegression"
      ],
      "metadata": {
        "id": "0V2FRLpWsfvZ"
      },
      "execution_count": 36,
      "outputs": []
    },
    {
      "cell_type": "code",
      "source": [
        "clf=LogisticRegression(random_state=0,multi_class='multinomial')"
      ],
      "metadata": {
        "id": "hKMCimfgsnUw"
      },
      "execution_count": 37,
      "outputs": []
    },
    {
      "cell_type": "code",
      "source": [
        "clf.fit(X_train,y_train)"
      ],
      "metadata": {
        "id": "J6Efgolvs2rP"
      },
      "execution_count": null,
      "outputs": []
    },
    {
      "cell_type": "markdown",
      "source": [
        "***PREDICTIONS ON DATA***"
      ],
      "metadata": {
        "id": "Ik5aFFyzB-zP"
      }
    },
    {
      "cell_type": "code",
      "source": [
        "dt=np.array(['Demon@dk0421'])\n",
        "pred=vectorizer.transform(dt)\n",
        "clf.predict(pred)"
      ],
      "metadata": {
        "id": "ebmLLU5iuJ78"
      },
      "execution_count": null,
      "outputs": []
    },
    {
      "cell_type": "code",
      "source": [
        "y_pred=clf.predict(X_test)"
      ],
      "metadata": {
        "id": "71k4hyj23rM4"
      },
      "execution_count": 41,
      "outputs": []
    },
    {
      "cell_type": "markdown",
      "source": [
        "***TESTING ACCURACY***"
      ],
      "metadata": {
        "id": "CFu2fW1NCGD4"
      }
    },
    {
      "cell_type": "code",
      "source": [
        "from sklearn.metrics import confusion_matrix,accuracy_score"
      ],
      "metadata": {
        "id": "bsxsv24Q4Zm5"
      },
      "execution_count": 43,
      "outputs": []
    },
    {
      "cell_type": "code",
      "source": [
        "cm=confusion_matrix(y_test,y_pred)\n",
        "print(cm)\n",
        "print(accuracy_score(y_test,y_pred))"
      ],
      "metadata": {
        "id": "E1PgY5r88S5k"
      },
      "execution_count": null,
      "outputs": []
    },
    {
      "cell_type": "code",
      "source": [
        "from sklearn.metrics import classification_report\n",
        "print(classification_report(y_test,y_pred))"
      ],
      "metadata": {
        "id": "zSDQ-y9o8uaH"
      },
      "execution_count": null,
      "outputs": []
    }
  ]
}